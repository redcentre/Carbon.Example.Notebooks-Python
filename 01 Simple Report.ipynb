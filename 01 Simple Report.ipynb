{
 "cells": [
  {
   "cell_type": "code",
   "execution_count": 15,
   "metadata": {},
   "outputs": [
    {
     "name": "stdout",
     "output_type": "stream",
     "text": [
      "            Green Red Black Blue White\n",
      "Very Good       1   0     0    1     0\n",
      "Good            1   3     1    0     0\n",
      "Bad             0   0     2    0     1\n",
      "Very Bad        0   0     0    1     0\n",
      "Indifferent     0   1     2    0     0\n"
     ]
    }
   ],
   "source": [
    "import requests\n",
    "import json\n",
    "import pandas\n",
    "import matplotlib.pyplot as plt\n",
    "from pyparsing import line\n",
    "\n",
    "postdata={\n",
    "  \"top\": [ \"Green\", \"Red\", \"Black\", \"Black\", \"Green\", \"Blue\", \"Blue\", \"White\", \"Black\", \"Red\", \"Red\", \"Black\", \"Red\", \"Black\" ],\n",
    "  \"side\": [\"Very Good\", \"Good\", \"Bad\", \"Bad\", \"Good\", \"Very Good\", \"Very Bad\", \"Bad\", \"Indifferent\", \"Indifferent\", \"Good\", \"Good\", \"Good\", \"Indifferent\" ]\n",
    "}\n",
    "response = requests.post(\"https://rcsapps.azurewebsites.net/plutonium/python/crosstab/dataframe\", json=postdata)\n",
    "dfjson = response.json()\n",
    "df=pandas.DataFrame(dfjson)\n",
    "print(df)"
   ]
  },
  {
   "cell_type": "code",
   "execution_count": null,
   "metadata": {},
   "outputs": [],
   "source": []
  }
 ],
 "metadata": {
  "kernelspec": {
   "display_name": "Python 3.10.7 64-bit",
   "language": "python",
   "name": "python3"
  },
  "language_info": {
   "codemirror_mode": {
    "name": "ipython",
    "version": 3
   },
   "file_extension": ".py",
   "mimetype": "text/x-python",
   "name": "python",
   "nbconvert_exporter": "python",
   "pygments_lexer": "ipython3",
   "version": "3.10.7"
  },
  "orig_nbformat": 4,
  "vscode": {
   "interpreter": {
    "hash": "26de051ba29f2982a8de78e945f0abaf191376122a1563185a90213a26c5da77"
   }
  }
 },
 "nbformat": 4,
 "nbformat_minor": 2
}
