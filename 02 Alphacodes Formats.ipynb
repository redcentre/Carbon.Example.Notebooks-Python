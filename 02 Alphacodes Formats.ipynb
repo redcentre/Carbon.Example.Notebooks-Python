{
 "cells": [
  {
   "cell_type": "markdown",
   "metadata": {},
   "source": [
    "### Carbon Python Sample No.02 - Alphacodes Formats\n",
    "\n",
    "This example shows the different formats of data that can be passed to the Carbon web service for conversion into a pandas dataframe."
   ]
  },
  {
   "cell_type": "code",
   "execution_count": 4,
   "metadata": {},
   "outputs": [],
   "source": [
    "import requests\n",
    "import pandas as pd"
   ]
  },
  {
   "cell_type": "markdown",
   "metadata": {},
   "source": [
    "### Examples of Input Lists\n",
    "\n",
    "The input is 2 python lists, in any of the formats below;\n",
    "\n",
    "- A list of strings eg. [\"30\", \"64\", \"30\"], [\"SE\", \"SE\", \"NW\"], [ \"Female\", \"Male\", \"Male\"]\n",
    "\n",
    "- A list of integers eg. [30, 64, 30]\n",
    "\n",
    "- A list of doubles eg. [\"2.5\", \"4.25\", \"3.5\"]\n",
    "\n",
    "- A list of lists eg. [['Brand2', 'Brand4', 'Brand7'],\n",
    " ['Brand2', 'Brand4', 'Brand7'],\n",
    " ['Brand2', 'Brand6', 'Brand7', 'Brand8']]\n",
    "\n",
    "- A list of tuples ( 'string' , double) eg. [('Brand 9', 2.5), ('Brand 4', 2.25), ('Brand 7', 2.99)]\n",
    "\n",
    "- A list of lists of tuples [[('string' , double)]] eg. [[('seg 1', 1352), ('seg 2', 650), ('seg 3', 619)], [('seg 1', 767), ('seg 2', 669), ('seg 3', 671)]]"
   ]
  },
  {
   "cell_type": "code",
   "execution_count": 5,
   "metadata": {},
   "outputs": [],
   "source": [
    "# Example data\n",
    "\n",
    "agestr = [\"30\", \"64\", \"30\", \"18\", \"30\", \"64\", \"30\", \"79\", \"64\", \"19\"]\n",
    "ageint = [30, 64, 30, 18, 30, 64, 30, 79, 64, 19]\n",
    "region = [\"SE\", \"SE\", \"NW\", \"NW\", \"SE\", \"NE\", \"SW\", \"NE\", \"SE\", \"NE\"]\n",
    "gender = [ \"Female\", \"Male\", \"Male\", \"Male\", \"Male\", \"Female\", \"Female\", \"Male\", \"Male\", \"Female\"]\n",
    "pricedbl = [2.5, 4.25, 3.5, 2, 2, 3.75, 3.5, 4.5, 4.25, 4.2]\n",
    "pricestr = [\"2.5\", \"4.25\", \"3.5\", \"2\", \"2\", \"3.75\", \"3.5\", \"4.5\", \"4.25\", \"4.2\"]\n",
    "\n",
    "multicode = [['Brand2', 'Brand4', 'Brand7'],\n",
    " ['Brand2', 'Brand4', 'Brand7'],\n",
    " ['Brand2', 'Brand6', 'Brand7', 'Brand8'],\n",
    " ['Brand2', 'Brand10'],\n",
    " ['Brand1', 'Brand2', 'Brand4', 'Brand6'],\n",
    " ['Brand1', 'Brand4', 'Brand5', 'Brand6'],\n",
    " ['Brand1', 'Brand2', 'Brand4'],\n",
    " ['Brand1', 'Brand2', 'Brand3', 'Brand5', 'Brand7'],\n",
    " ['Brand1', 'Brand4', 'Brand6', 'Brand7'],\n",
    " ['Brand3', 'Brand5']]\n",
    "\n",
    "singleinc = [('Brand 9', 2.5), ('Brand 4', 2.25), ('Brand 7', 2.99), ('Brand 5', 2.0), ('Brand 7', 2.0), \n",
    "('Brand 1', 7.5), ('Brand 4', 7.0), ('Brand 3', 9.0), ('Brand 3', 4.25), ('Brand 8', 8.4)]\n",
    "\n",
    "multiinc=[[('seg 1', 1352), ('seg 2', 650), ('seg 3', 619)], [('seg 1', 767), ('seg 2', 669), ('seg 3', 671)], [('seg 1', 726), ('seg 2', 535), ('seg 3', 748)], [('seg 1', 776), ('seg 2', 1090), ('seg 3', 471)], [('seg 1', 664), ('seg 2', 473), ('seg 3', 687)], [('seg 1', 608), ('seg 2', 717), ('seg 3', 330)], [('seg 1', 549), ('seg 2', 655), ('seg 3', 468)], [('seg 1', 552), ('seg 2', 461), ('seg 3', 985)], [('seg 1', 646), ('seg 2', 452), ('seg 3', 665)], [('seg 1', 461), ('seg 2', 767), ('seg 3', 760)]]\n"
   ]
  },
  {
   "cell_type": "markdown",
   "metadata": {},
   "source": [
    "Pairs of data lists can be passed through the web service to generate a pandas dataframe. Uncomment the different postdata lines to see the different responses.\n",
    "\n"
   ]
  },
  {
   "cell_type": "code",
   "execution_count": 6,
   "metadata": {},
   "outputs": [
    {
     "data": {
      "text/html": [
       "<div>\n",
       "<style scoped>\n",
       "    .dataframe tbody tr th:only-of-type {\n",
       "        vertical-align: middle;\n",
       "    }\n",
       "\n",
       "    .dataframe tbody tr th {\n",
       "        vertical-align: top;\n",
       "    }\n",
       "\n",
       "    .dataframe thead th {\n",
       "        text-align: right;\n",
       "    }\n",
       "</style>\n",
       "<table border=\"1\" class=\"dataframe\">\n",
       "  <thead>\n",
       "    <tr style=\"text-align: right;\">\n",
       "      <th></th>\n",
       "      <th>Female</th>\n",
       "      <th>Male</th>\n",
       "    </tr>\n",
       "  </thead>\n",
       "  <tbody>\n",
       "    <tr>\n",
       "      <th>30</th>\n",
       "      <td>2.00</td>\n",
       "      <td>2.00</td>\n",
       "    </tr>\n",
       "    <tr>\n",
       "      <th>64</th>\n",
       "      <td>1.00</td>\n",
       "      <td>2.00</td>\n",
       "    </tr>\n",
       "    <tr>\n",
       "      <th>18</th>\n",
       "      <td>0.00</td>\n",
       "      <td>1.00</td>\n",
       "    </tr>\n",
       "    <tr>\n",
       "      <th>79</th>\n",
       "      <td>0.00</td>\n",
       "      <td>1.00</td>\n",
       "    </tr>\n",
       "    <tr>\n",
       "      <th>19</th>\n",
       "      <td>1.00</td>\n",
       "      <td>0.00</td>\n",
       "    </tr>\n",
       "  </tbody>\n",
       "</table>\n",
       "</div>"
      ],
      "text/plain": [
       "   Female  Male\n",
       "30   2.00  2.00\n",
       "64   1.00  2.00\n",
       "18   0.00  1.00\n",
       "79   0.00  1.00\n",
       "19   1.00  0.00"
      ]
     },
     "execution_count": 6,
     "metadata": {},
     "output_type": "execute_result"
    }
   ],
   "source": [
    "postdata={\"top\": gender,\"side\": agestr, 'props':'Decimals.Frequencies=2'}\n",
    "#postdata={\"top\": gender,\"side\": ageint, 'props':'Decimals.Frequencies=2'}\n",
    "#postdata={\"top\": gender,\"side\": region, 'props':'Decimals.Frequencies=2'}\n",
    "#postdata={\"top\": gender,\"side\": pricedbl, 'props':'Decimals.Frequencies=2'}\n",
    "#postdata={\"top\": gender,\"side\": pricestr, 'props':'Decimals.Frequencies=2'}\n",
    "#postdata={\"top\": gender,\"side\": multicode, 'props':'Decimals.Frequencies=2'}\n",
    "#postdata={\"top\": gender,\"side\": singleinc, 'props':'Decimals.Frequencies=2'}\n",
    "#postdata={\"top\": gender,\"side\": multiinc, 'props':'Decimals.Frequencies=2'}\n",
    "#postdata={\"top\": multiinc,\"side\": multicode, 'props':'Decimals.Frequencies=2'}\n",
    "#postdata={\"top\": multiinc,\"side\": multicode, 'props':'Decimals.Frequencies=2'}\n",
    "#postdata={\"top\": multiinc,\"side\": pricedbl, 'props':'Decimals.Frequencies=2'}\n",
    "\n",
    "response = requests.post('https://rcsapps.azurewebsites.net/carbon/python/crosstab/alphacodes', json=postdata)\n",
    "\n",
    "crosstab = pd.DataFrame(response.json())\n",
    "crosstab"
   ]
  },
  {
   "cell_type": "code",
   "execution_count": null,
   "metadata": {},
   "outputs": [],
   "source": []
  }
 ],
 "metadata": {
  "kernelspec": {
   "display_name": "Python 3.10.7 64-bit",
   "language": "python",
   "name": "python3"
  },
  "language_info": {
   "codemirror_mode": {
    "name": "ipython",
    "version": 3
   },
   "file_extension": ".py",
   "mimetype": "text/x-python",
   "name": "python",
   "nbconvert_exporter": "python",
   "pygments_lexer": "ipython3",
   "version": "3.10.7"
  },
  "orig_nbformat": 4,
  "vscode": {
   "interpreter": {
    "hash": "26de051ba29f2982a8de78e945f0abaf191376122a1563185a90213a26c5da77"
   }
  }
 },
 "nbformat": 4,
 "nbformat_minor": 2
}
