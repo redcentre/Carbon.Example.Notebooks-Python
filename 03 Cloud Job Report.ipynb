{
 "cells": [
  {
   "attachments": {},
   "cell_type": "markdown",
   "metadata": {},
   "source": [
    "### Carbon Python Sample No.3 - Cloud job Report\n",
    "\n",
    "The ability to generate a Ruby report in a single Login :arrow_right: Open :arrow_right: Generate :arrow_right: Close :arrow_right: Logoff sequence is not currently supported.\n",
    "\n",
    "This feature may be restored in the future depending on client app demands."
   ]
  }
 ],
 "metadata": {
  "kernelspec": {
   "display_name": "Python 3",
   "language": "python",
   "name": "python3"
  },
  "language_info": {
   "codemirror_mode": {
    "name": "ipython",
    "version": 3
   },
   "file_extension": ".py",
   "mimetype": "text/x-python",
   "name": "python",
   "nbconvert_exporter": "python",
   "pygments_lexer": "ipython3",
   "version": "3.10.7"
  },
  "orig_nbformat": 4,
  "polyglot_notebook": {
   "kernelInfo": {
    "defaultKernelName": "csharp",
    "items": [
     {
      "aliases": [],
      "name": "csharp"
     }
    ]
   }
  }
 },
 "nbformat": 4,
 "nbformat_minor": 2
}
