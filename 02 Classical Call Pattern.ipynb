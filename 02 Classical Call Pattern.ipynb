{
 "cells": [
  {
   "cell_type": "markdown",
   "metadata": {},
   "source": [
    "### Carbon Python Sample No.02 - GenTab\n",
    "\n",
    "Contact the Plutonium web service to verify that it is repondoning correctly. The `service/info` endpoint returns environmental and version about the service. Some of the values are printed."
   ]
  },
  {
   "cell_type": "code",
   "execution_count": 7,
   "metadata": {},
   "outputs": [
    {
     "name": "stdout",
     "output_type": "stream",
     "text": [
      "Service machine .... RD0003FF85C098\n",
      "Service version .... 0.9.33.0\n",
      "Service build ...... 2022-10-11 16:34 GMT+11\n",
      "Carbon version ..... 8.3.17.0\n",
      "Carbon  build ...... 2022-10-08 16:50 GMT+11\n"
     ]
    }
   ],
   "source": [
    "import requests\n",
    "import json\n",
    "inforesp = requests.get(\"https://rcsapps.azurewebsites.net/plutonium/service/info\")\n",
    "#print(inforesp)\n",
    "infojson = inforesp.json()\n",
    "#print(json.dumps(infojson, indent=2))\n",
    "print(\"Service machine .... \" + infojson[\"hostMachine\"])\n",
    "print(\"Service version .... \" + infojson[\"version\"])\n",
    "print(\"Service build ...... \" + infojson[\"build\"])\n",
    "print(\"Carbon version ..... \" + infojson[\"carbonVersion\"])\n",
    "print(\"Carbon  build ...... \" + infojson[\"carbonBuild\"])\n"
   ]
  },
  {
   "cell_type": "markdown",
   "metadata": {},
   "source": [
    "Issue a login call with the Carbon guest account credentials to start an authorised session. The response contains detailed information about the account that has created the session. The customers and their child jobs permitted for the account are printed."
   ]
  },
  {
   "cell_type": "code",
   "execution_count": 8,
   "metadata": {},
   "outputs": [
    {
     "name": "stdout",
     "output_type": "stream",
     "text": [
      "Session ID ........ E3WPGEYYVC\n",
      "|  3625340368 rcsruby\n",
      "|  |  25303847 demo\n",
      "|  3382340368 rcspublic\n",
      "|  |  23464980 uk-ge2019\n",
      "|  |  27811105 cdc-covid\n",
      "|  |  27468214 firstfleet\n",
      "|  |  25895325 stockmarkets\n",
      "|  |  24098249 gss\n",
      "|  |  23325371 aemo\n",
      "|  |  22826258 romeo-juliet\n",
      "|  |  24821945 cov19-global\n"
     ]
    }
   ],
   "source": [
    "postdata={\n",
    "  \"id\": \"16499372\",\n",
    "  \"password\": \"C6H12O6\",\n",
    "  \"skipCache\": True\n",
    "}\n",
    "loginresp = requests.post(\"https://rcsapps.azurewebsites.net/plutonium/session/start/login/id\", json=postdata)\n",
    "loginjson = loginresp.json()\n",
    "sessionId = loginjson[\"sessionId\"]\n",
    "print(\"Session ID ........ \" + sessionId)\n",
    "for cust in loginjson[\"sessionCusts\"]:\n",
    "    print(\"|  {0} {1}\".format(cust[\"id\"], cust[\"name\"]))\n",
    "    for job in cust[\"sessionJobs\"]:\n",
    "        print(\"|  |  {0} {1}\".format(job[\"id\"], job[\"name\"]))\n",
    "sess = requests.Session()\n",
    "sessheader = { 'x-session-id': sessionId }\n",
    "sess.headers.update(sessheader)"
   ]
  },
  {
   "cell_type": "markdown",
   "metadata": {},
   "source": [
    "Open one of the public cloud jobs published by Red Centre Software, seen as the first customer and job entry in the previous response print."
   ]
  },
  {
   "cell_type": "code",
   "execution_count": 9,
   "metadata": {},
   "outputs": [],
   "source": [
    "postdata={\n",
    "  \"customerName\": \"rcsruby\",\n",
    "  \"jobName\": \"demo\",\n",
    "  \"getDisplayProps\": True,\n",
    "  \"getVartreeNames\": True,\n",
    "  \"getAxisTreeNames\": True,\n",
    "  \"getTocNew\": False,\n",
    "  \"getTocOld\": False,\n",
    "  \"getIni\": False\n",
    "}\n",
    "jobresp = sess.post(\"https://rcsapps.azurewebsites.net/plutonium/job/open\", json=postdata)\n",
    "jobjson = jobresp.json()\n",
    "# The job open reponse doesn't contain anything useful for this demonstration."
   ]
  },
  {
   "cell_type": "markdown",
   "metadata": {},
   "source": [
    "Generate a simple cross-tabulation report using \"Age\" and \"Region\" as the top and side variables respectively. Other service endpoints exist to discover the groups of variables that are defined in a job (not shown in the sample for brevity).\n",
    "\n",
    "Valid formats are: TSV, CSV, SSV, XLSX, XML, HTML, OXT, Diamond, Pandas, Pandas1, Pandas2. Not all of those are currently useful for Python clients. Research is underway to produce output that is customised for Python consumption."
   ]
  },
  {
   "cell_type": "code",
   "execution_count": 10,
   "metadata": {},
   "outputs": [
    {
     "name": "stdout",
     "output_type": "stream",
     "text": [
      "[\n",
      "  \"Name: Sample02\",\n",
      "  \"Top: Age\",\n",
      "  \"Side: Region\",\n",
      "  \",15-25,26-35,36-50,51-65,65+,Under 35,Over 35,Under 50,Over 50\",\n",
      "  \"NE,479,498,501,504,540,977.00,1545.00,1478.00,1044.00\",\n",
      "  \"SE,459,441,510,514,535,900.00,1559.00,1410.00,1049.00\",\n",
      "  \"SW,523,467,457,517,511,990.00,1485.00,1447.00,1028.00\",\n",
      "  \"NW,469,510,542,499,524,979.00,1565.00,1521.00,1023.00\",\n",
      "  \"East,938,939,1011,1018,1075,1877.00,3104.00,2888.00,2093.00\",\n",
      "  \"West,992,977,999,1016,1035,1969.00,3050.00,2968.00,2051.00\",\n",
      "  \"North,948,1008,1043,1003,1064,1956.00,3110.00,2999.00,2067.00\",\n",
      "  \"South,982,908,967,1031,1046,1890.00,3044.00,2857.00,2077.00\"\n",
      "]\n"
     ]
    }
   ],
   "source": [
    "postdata={\n",
    "  \"name\": \"Sample02\",\n",
    "  \"top\": \"Age\",\n",
    "  \"side\": \"Region\",\n",
    "  \"filter\": None,\n",
    "  \"weight\": None,\n",
    "  \"format\": \"CSV\",\n",
    "  \"showFrequencies\": True,\n",
    "  \"showColumnPercents\": False,\n",
    "  \"showRowPercents\": False,\n",
    "  \"showStats\": False\n",
    "}\n",
    "genresp = sess.post(\"https://rcsapps.azurewebsites.net/plutonium/job/gentab/python\", json=postdata)\n",
    "genjson = genresp.json()\n",
    "print(json.dumps(genjson, indent=2))"
   ]
  },
  {
   "cell_type": "markdown",
   "metadata": {},
   "source": [
    "When job processing is complete, the job should be closed to immediately free resources. The response contains the boolean value `True` or `False` to indicate if the job was closed."
   ]
  },
  {
   "cell_type": "code",
   "execution_count": 11,
   "metadata": {},
   "outputs": [
    {
     "name": "stdout",
     "output_type": "stream",
     "text": [
      "true\n"
     ]
    }
   ],
   "source": [
    "closeresp = sess.delete(\"https://rcsapps.azurewebsites.net/plutonium/job/close\")\n",
    "closejson = closeresp.json()\n",
    "print(json.dumps(closejson, indent=2))"
   ]
  },
  {
   "cell_type": "markdown",
   "metadata": {},
   "source": [
    "Issue a 'logoff' request. The session will be ended and the usage count for the account is decremented. The integer return value is the new licence usage count for the account."
   ]
  },
  {
   "cell_type": "code",
   "execution_count": 12,
   "metadata": {},
   "outputs": [
    {
     "name": "stdout",
     "output_type": "stream",
     "text": [
      "1\n"
     ]
    }
   ],
   "source": [
    "endresp = sess.delete(\"https://rcsapps.azurewebsites.net/plutonium/session/end/logoff\")\n",
    "endjson = endresp.json()\n",
    "print(json.dumps(endjson, indent=2))\n",
    "sess.close()"
   ]
  }
 ],
 "metadata": {
  "kernelspec": {
   "display_name": "Python 3.10.7 64-bit",
   "language": "python",
   "name": "python3"
  },
  "language_info": {
   "codemirror_mode": {
    "name": "ipython",
    "version": 3
   },
   "file_extension": ".py",
   "mimetype": "text/x-python",
   "name": "python",
   "nbconvert_exporter": "python",
   "pygments_lexer": "ipython3",
   "version": "3.10.7"
  },
  "orig_nbformat": 4,
  "vscode": {
   "interpreter": {
    "hash": "26de051ba29f2982a8de78e945f0abaf191376122a1563185a90213a26c5da77"
   }
  }
 },
 "nbformat": 4,
 "nbformat_minor": 2
}
